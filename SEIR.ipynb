{
 "cells": [
  {
   "cell_type": "markdown",
   "metadata": {
    "collapsed": true,
    "pycharm": {
     "name": "#%% md\n"
    }
   },
   "source": [
    "# SEIR model\n",
    "\n",
    "Будем рассматривать модель Susceptible-Exposed-Infected-Recovered для эпидемиологических моделей.\n",
    "Зададим её как\n",
    "$\n",
    "\\begin{cases}\n",
    "\\dot{S} = -\\alpha S I \\\\\n",
    "\\dot{E} = \\alpha S I - \\gamma E \\\\\n",
    "\\dot I = \\gamma E - \\beta I \\\\\n",
    "\\dot R = \\beta I\n",
    "\\end{cases}\n",
    "$,\n",
    "\n",
    "где скорости переходов $\\alpha$, $\\beta$ и $\\gamma$ соответствуют диаграмме перехода\n",
    "$S \\rightarrow_{\\alpha I} E \\rightarrow_{\\gamma} I \\rightarrow_{\\beta} R$.\n",
    "\n",
    "Так же дополнительно определим $N = S + E + I + R = 1$"
   ]
  },
  {
   "cell_type": "markdown",
   "source": [
    "С помощью символьных вычислений попробуем решить наше систему уравнений при малых $t$, а именно:\n",
    "* $S \\approx 1$"
   ],
   "metadata": {
    "collapsed": false,
    "pycharm": {
     "name": "#%% md\n"
    }
   }
  },
  {
   "cell_type": "markdown",
   "source": [
    "Будем использовать *метод характеристических многочленов*."
   ],
   "metadata": {
    "collapsed": false,
    "pycharm": {
     "name": "#%% md\n"
    }
   }
  },
  {
   "cell_type": "code",
   "execution_count": 1,
   "outputs": [
    {
     "data": {
      "text/plain": "Matrix([\n[-\\lambda,                 0,          -\\alpha,        0],\n[       0, -\\gamma - \\lambda,           \\alpha,        0],\n[       0,            \\gamma, -\\beta - \\lambda,        0],\n[       0,                 0,            \\beta, -\\lambda]])",
      "text/latex": "$\\displaystyle \\left[\\begin{matrix}- \\lambda & 0 & - \\alpha & 0\\\\0 & - \\gamma - \\lambda & \\alpha & 0\\\\0 & \\gamma & - \\beta - \\lambda & 0\\\\0 & 0 & \\beta & - \\lambda\\end{matrix}\\right]$"
     },
     "execution_count": 1,
     "metadata": {},
     "output_type": "execute_result"
    }
   ],
   "source": [
    "import sympy as sp\n",
    "\n",
    "a, b, g, l = sp.symbols(r\"\\alpha, \\beta, \\gamma, \\lambda\")\n",
    "M_t0 = sp.Matrix([[-l, 0, -a, 0], [0, -g - l, a, 0], [0, g, -b - l, 0], [0, 0, b, -l]])\n",
    "M_t0"
   ],
   "metadata": {
    "collapsed": false,
    "pycharm": {
     "name": "#%%\n"
    }
   }
  },
  {
   "cell_type": "markdown",
   "source": [
    "Получили хакартеристический многочлен:"
   ],
   "metadata": {
    "collapsed": false,
    "pycharm": {
     "name": "#%% md\n"
    }
   }
  },
  {
   "cell_type": "code",
   "execution_count": 2,
   "outputs": [
    {
     "data": {
      "text/plain": "-\\lambda**2*(\\alpha*\\gamma - \\beta*\\gamma - \\beta*\\lambda - \\gamma*\\lambda - \\lambda**2)",
      "text/latex": "$\\displaystyle - \\lambda^{2} \\left(\\alpha \\gamma - \\beta \\gamma - \\beta \\lambda - \\gamma \\lambda - \\lambda^{2}\\right)$"
     },
     "execution_count": 2,
     "metadata": {},
     "output_type": "execute_result"
    }
   ],
   "source": [
    "char_poly =  M_t0.det()\n",
    "sp.factor(char_poly)"
   ],
   "metadata": {
    "collapsed": false,
    "pycharm": {
     "name": "#%%\n"
    }
   }
  },
  {
   "cell_type": "markdown",
   "source": [
    "Его корни:"
   ],
   "metadata": {
    "collapsed": false,
    "pycharm": {
     "name": "#%% md\n"
    }
   }
  },
  {
   "cell_type": "code",
   "execution_count": 3,
   "outputs": [
    {
     "data": {
      "text/plain": "{-\\beta/2 - \\gamma/2 - sqrt(4*\\alpha*\\gamma + \\beta**2 - 2*\\beta*\\gamma + \\gamma**2)/2: 1,\n -\\beta/2 - \\gamma/2 + sqrt(4*\\alpha*\\gamma + \\beta**2 - 2*\\beta*\\gamma + \\gamma**2)/2: 1,\n 0: 2}"
     },
     "execution_count": 3,
     "metadata": {},
     "output_type": "execute_result"
    }
   ],
   "source": [
    "sp.roots(char_poly, l)"
   ],
   "metadata": {
    "collapsed": false,
    "pycharm": {
     "name": "#%%\n"
    }
   }
  },
  {
   "cell_type": "markdown",
   "source": [
    "Видим, соответственно, 2 корня, возникающих из выражения по скобками, и $0$ второй степени, который даёт нам $\\lambda^2$\n",
    "\n",
    "Посмотрим на первые 2 корня в красивом виде:\n"
   ],
   "metadata": {
    "collapsed": false,
    "pycharm": {
     "name": "#%% md\n"
    }
   }
  },
  {
   "cell_type": "code",
   "execution_count": 10,
   "outputs": [
    {
     "data": {
      "text/plain": "Eq(\\lambda_1, -(\\beta + \\gamma + sqrt(4*\\alpha*\\gamma + \\beta**2 - 2*\\beta*\\gamma + \\gamma**2))/2)",
      "text/latex": "$\\displaystyle \\lambda_1 = - \\frac{\\beta + \\gamma + \\sqrt{4 \\alpha \\gamma + \\beta^{2} - 2 \\beta \\gamma + \\gamma^{2}}}{2}$"
     },
     "execution_count": 10,
     "metadata": {},
     "output_type": "execute_result"
    }
   ],
   "source": [
    "sp.Eq(sp.Symbol(r\"\\lambda_1\"), sp.factor(list(sp.roots(char_poly, l))[0]))"
   ],
   "metadata": {
    "collapsed": false,
    "pycharm": {
     "name": "#%%\n"
    }
   }
  },
  {
   "cell_type": "code",
   "execution_count": 11,
   "outputs": [
    {
     "data": {
      "text/plain": "Eq(\\lambda_2, -(\\beta + \\gamma - sqrt(4*\\alpha*\\gamma + \\beta**2 - 2*\\beta*\\gamma + \\gamma**2))/2)",
      "text/latex": "$\\displaystyle \\lambda_2 = - \\frac{\\beta + \\gamma - \\sqrt{4 \\alpha \\gamma + \\beta^{2} - 2 \\beta \\gamma + \\gamma^{2}}}{2}$"
     },
     "execution_count": 11,
     "metadata": {},
     "output_type": "execute_result"
    }
   ],
   "source": [
    "sp.Eq(sp.Symbol(r\"\\lambda_2\"), sp.factor(list(sp.roots(char_poly, l))[1]))"
   ],
   "metadata": {
    "collapsed": false,
    "pycharm": {
     "name": "#%%\n"
    }
   }
  },
  {
   "cell_type": "markdown",
   "source": [
    "Заметим следующие моменты:\n",
    "* $\\lambda_1$ постоянно убывает\n",
    "* при равных $\\beta$ и $\\gamma$ эволюцию $\\lambda$ будет определять только $\\alpha$, что нам в численных экспериментах пригодится."
   ],
   "metadata": {
    "collapsed": false,
    "pycharm": {
     "name": "#%% md\n"
    }
   }
  },
  {
   "cell_type": "markdown",
   "source": [
    "## 1. Найдём Basic Reproductive Number $R_0$ для нашей модели\n",
    "\n",
    "Теперь посмотрим на наши значения $\\lambda$ и вспомним, что они - показатели экспонент в общем решениии системы.\n",
    "А значит при:\n",
    "* $\\lambda < 0$ экспоненты — убывающие функции\n",
    "* $\\lambda > 0$ экспоненты — возрастающие\n",
    "\n",
    "В нашем случае, $\\lambda_1 <= 0$ всегда. Таким образом, мы можем получить $R_0$ для **SEIR**,\n",
    "решив $\\lambda_2 = 0$."
   ],
   "metadata": {
    "collapsed": false,
    "pycharm": {
     "name": "#%% md\n"
    }
   }
  },
  {
   "cell_type": "code",
   "execution_count": 14,
   "outputs": [
    {
     "data": {
      "text/plain": "Eq(0, -(\\beta + \\gamma - sqrt(4*\\alpha*\\gamma + \\beta**2 - 2*\\beta*\\gamma + \\gamma**2))/2)",
      "text/latex": "$\\displaystyle 0 = - \\frac{\\beta + \\gamma - \\sqrt{4 \\alpha \\gamma + \\beta^{2} - 2 \\beta \\gamma + \\gamma^{2}}}{2}$"
     },
     "execution_count": 14,
     "metadata": {},
     "output_type": "execute_result"
    }
   ],
   "source": [
    "eq = sp.Eq(0, sp.factor(list(sp.roots(char_poly, l))[1]))\n",
    "eq"
   ],
   "metadata": {
    "collapsed": false,
    "pycharm": {
     "name": "#%%\n"
    }
   }
  },
  {
   "cell_type": "code",
   "execution_count": 15,
   "outputs": [
    {
     "data": {
      "text/plain": "[{\\alpha: \\beta}, {\\gamma: 0}]"
     },
     "execution_count": 15,
     "metadata": {},
     "output_type": "execute_result"
    }
   ],
   "source": [
    "sp.solve(eq)"
   ],
   "metadata": {
    "collapsed": false,
    "pycharm": {
     "name": "#%%\n"
    }
   }
  },
  {
   "cell_type": "markdown",
   "source": [
    "То есть, релевантным $R_0$ является $\\frac{\\alpha}{\\beta}$."
   ],
   "metadata": {
    "collapsed": false,
    "pycharm": {
     "name": "#%% md\n"
    }
   }
  },
  {
   "cell_type": "markdown",
   "source": [
    "## 2. Среднее время между заражением человека и моментом, когда он заразил кого-то другого.\n",
    "\n",
    "Здесь заметим следующее:\n",
    "\n",
    "время до первого заражения другого человека после собственного заражения $=$ время пребывания в $E$ $+$ время до заражения другого человека во время пребывания в $I$.\n",
    "\n",
    "$T = T_E + \\widetilde{T_I}$\n",
    "\n",
    "Оценим по слагаемым:"
   ],
   "metadata": {
    "collapsed": false,
    "pycharm": {
     "name": "#%% md\n"
    }
   }
  },
  {
   "cell_type": "markdown",
   "source": [
    "### 2.1 Оценка $T_E$\n",
    "\n",
    "Если не учитывать динамику заполения во втором уравнении в **SEIR**, то очевидно,\n",
    "что $E$ распределено экспонециально с параметром $\\gamma$.\n",
    "Таким образом, среднее время пребывания в $E$ составляет $\\frac{1}{\\gamma}$.\n"
   ],
   "metadata": {
    "collapsed": false,
    "pycharm": {
     "name": "#%% md\n"
    }
   }
  },
  {
   "cell_type": "markdown",
   "source": [
    "### 2.2 Оценка $\\widetilde{T_I}$\n",
    "\n",
    "\n"
   ],
   "metadata": {
    "collapsed": false,
    "pycharm": {
     "name": "#%% md\n"
    }
   }
  },
  {
   "cell_type": "markdown",
   "source": [
    "## 3. Показатель экспоненциального роста эпидемии на ранних стадиях\n",
    "\n",
    "Собственно, найденные значения $\\lambda$ как раз описывают комбинацию экспоненциального роста и падения.\n",
    "\n",
    "Более конкретно, решение каждого уравнения системы выглядит как $\\dot x = C_1 e^{\\lambda_1} + C_2 e^{\\lambda 2} + C_3$"
   ],
   "metadata": {
    "collapsed": false,
    "pycharm": {
     "name": "#%% md\n"
    }
   }
  },
  {
   "cell_type": "markdown",
   "source": [
    "## 4. Численное моделлирование"
   ],
   "metadata": {
    "collapsed": false,
    "pycharm": {
     "name": "#%% md\n"
    }
   }
  },
  {
   "cell_type": "code",
   "execution_count": 42,
   "outputs": [],
   "source": [
    "import numpy as np\n",
    "from scipy.integrate import solve_ivp\n",
    "\n",
    "import matplotlib.pyplot as plt\n",
    "%matplotlib inline\n",
    "\n",
    "def seir(t, vec, alpha, beta, gamma):\n",
    "    s, e, i, r = vec\n",
    "    return [\n",
    "        -alpha * s * i,\n",
    "        alpha * s * i - gamma * e,\n",
    "        gamma * e - beta * i,\n",
    "        beta * i\n",
    "    ]\n",
    "\n",
    "def view_seir_model(t_span, alpha, beta=3, gamma=3):\n",
    "    vec_0 = [0.9999, 0.0001, 0., 0.]\n",
    "    sol = solve_ivp(seir, t_span, vec_0, args=[alpha, beta, gamma], dense_output=True)\n",
    "\n",
    "    t = np.linspace(*t_span, num=100)\n",
    "    res = sol.sol(t)\n",
    "\n",
    "    plt.plot(t, res.T)\n",
    "    plt.xlabel('t')\n",
    "    plt.legend(['S', 'E', 'I', 'R'], shadow=True)\n",
    "    plt.title(f\"SEIR system with {alpha=}, {beta=}, {gamma=}\")\n",
    "\n",
    "    print(res.shape)\n",
    "    print(f\"Solution at the end point t={t_span[-1]}: \")\n",
    "    print(f\"S={np.round(res[0][-1], 3)}\")\n",
    "    print(f\"E={np.round(res[1][-1], 3)}\")\n",
    "    print(f\"I={np.round(res[2][-1], 3)}\")\n",
    "    print(f\"R={np.round(res[3][-1], 3)}\")"
   ],
   "metadata": {
    "collapsed": false,
    "pycharm": {
     "name": "#%%\n"
    }
   }
  },
  {
   "cell_type": "markdown",
   "source": [
    "### $\\alpha$ = 1; $R_0 < 1$"
   ],
   "metadata": {
    "collapsed": false,
    "pycharm": {
     "name": "#%% md\n"
    }
   }
  },
  {
   "cell_type": "code",
   "execution_count": 43,
   "outputs": [
    {
     "name": "stdout",
     "output_type": "stream",
     "text": [
      "(4, 100)\n",
      "Solution at the end point t=10: \n",
      "S=1.0\n",
      "E=0.0\n",
      "I=-0.0\n",
      "R=0.0\n"
     ]
    },
    {
     "data": {
      "text/plain": "<Figure size 432x288 with 1 Axes>",
      "image/png": "[encoded data removed]"
     },
     "metadata": {
      "needs_background": "light"
     },
     "output_type": "display_data"
    }
   ],
   "source": [
    "view_seir_model(alpha=1, t_span=[0, 10])"
   ],
   "metadata": {
    "collapsed": false,
    "pycharm": {
     "name": "#%%\n"
    }
   }
  },
  {
   "cell_type": "markdown",
   "source": [
    "### $\\alpha$ = 3; $R_0 = 1$"
   ],
   "metadata": {
    "collapsed": false
   }
  },
  {
   "cell_type": "code",
   "execution_count": 44,
   "outputs": [
    {
     "name": "stdout",
     "output_type": "stream",
     "text": [
      "(4, 100)\n",
      "Solution at the end point t=1000: \n",
      "S=0.986\n",
      "E=0.0\n",
      "I=-0.0\n",
      "R=0.014\n"
     ]
    },
    {
     "data": {
      "text/plain": "<Figure size 432x288 with 1 Axes>",
      "image/png": "[encoded data removed]"
     },
     "metadata": {
      "needs_background": "light"
     },
     "output_type": "display_data"
    }
   ],
   "source": [
    "view_seir_model(alpha=3, t_span=[0, 1000])"
   ],
   "metadata": {
    "collapsed": false,
    "pycharm": {
     "name": "#%%\n"
    }
   }
  },
  {
   "cell_type": "markdown",
   "source": [
    "### $\\alpha$ = 4; $R_0 > 1$"
   ],
   "metadata": {
    "collapsed": false
   }
  },
  {
   "cell_type": "code",
   "execution_count": 45,
   "outputs": [
    {
     "name": "stdout",
     "output_type": "stream",
     "text": [
      "(4, 100)\n",
      "Solution at the end point t=30: \n",
      "S=0.546\n",
      "E=0.0\n",
      "I=0.0\n",
      "R=0.454\n"
     ]
    },
    {
     "data": {
      "text/plain": "<Figure size 432x288 with 1 Axes>",
      "image/png": "[encoded data removed]"
     },
     "metadata": {
      "needs_background": "light"
     },
     "output_type": "display_data"
    }
   ],
   "source": [
    "view_seir_model(alpha=4, t_span=[0, 30])"
   ],
   "metadata": {
    "collapsed": false,
    "pycharm": {
     "name": "#%%\n"
    }
   }
  },
  {
   "cell_type": "markdown",
   "source": [
    "### $\\alpha$ = 6; $R_0 > 1$"
   ],
   "metadata": {
    "collapsed": false
   }
  },
  {
   "cell_type": "code",
   "execution_count": 46,
   "outputs": [
    {
     "name": "stdout",
     "output_type": "stream",
     "text": [
      "(4, 100)\n",
      "Solution at the end point t=20: \n",
      "S=0.203\n",
      "E=0.0\n",
      "I=0.0\n",
      "R=0.797\n"
     ]
    },
    {
     "data": {
      "text/plain": "<Figure size 432x288 with 1 Axes>",
      "image/png": "[encoded data removed]"
     },
     "metadata": {
      "needs_background": "light"
     },
     "output_type": "display_data"
    }
   ],
   "source": [
    "view_seir_model(alpha=6, t_span=[0, 20])"
   ],
   "metadata": {
    "collapsed": false,
    "pycharm": {
     "name": "#%%\n"
    }
   }
  },
  {
   "cell_type": "markdown",
   "source": [
    "### $\\alpha$ = 10; $R_0 \\gg 1$"
   ],
   "metadata": {
    "collapsed": false
   }
  },
  {
   "cell_type": "code",
   "execution_count": 47,
   "outputs": [
    {
     "name": "stdout",
     "output_type": "stream",
     "text": [
      "(4, 100)\n",
      "Solution at the end point t=10: \n",
      "S=0.041\n",
      "E=0.0\n",
      "I=0.0\n",
      "R=0.959\n"
     ]
    },
    {
     "data": {
      "text/plain": "<Figure size 432x288 with 1 Axes>",
      "image/png": "[encoded data removed]"
     },
     "metadata": {
      "needs_background": "light"
     },
     "output_type": "display_data"
    }
   ],
   "source": [
    "view_seir_model(alpha=10, t_span=[0, 10])"
   ],
   "metadata": {
    "collapsed": false,
    "pycharm": {
     "name": "#%%\n"
    }
   }
  },
  {
   "cell_type": "markdown",
   "source": [
    "Как мы видим, $R_0$ действительно характеризует динамику распространения модели.\n",
    "* $R_0 < 1$ - эпидемия быстро угасает\n",
    "* $R_0 = 1$ - эпидения не поражает значительную долю населения\n",
    "* $R_0 > 1$ - эпидемия поражает значительную долю населения и тем больше, чем больше $R_0$\n",
    "\n",
    "В начале эпидемии число заражённых действительно растёт экспоненциально, а величины $S$ и $I$ имеют вид, явно схожий с сигмоидой."
   ],
   "metadata": {
    "collapsed": false,
    "pycharm": {
     "name": "#%% md\n"
    }
   }
  }
 ],
 "metadata": {
  "kernelspec": {
   "display_name": "Python 3",
   "language": "python",
   "name": "python3"
  },
  "language_info": {
   "codemirror_mode": {
    "name": "ipython",
    "version": 2
   },
   "file_extension": ".py",
   "mimetype": "text/x-python",
   "name": "python",
   "nbconvert_exporter": "python",
   "pygments_lexer": "ipython2",
   "version": "2.7.6"
  }
 },
 "nbformat": 4,
 "nbformat_minor": 0
}